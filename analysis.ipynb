{
 "metadata": {
  "language_info": {
   "codemirror_mode": {
    "name": "ipython",
    "version": 3
   },
   "file_extension": ".py",
   "mimetype": "text/x-python",
   "name": "python",
   "nbconvert_exporter": "python",
   "pygments_lexer": "ipython3",
   "version": "3.7.7-final"
  },
  "orig_nbformat": 2,
  "kernelspec": {
   "name": "python3",
   "display_name": "Python 3",
   "language": "python"
  }
 },
 "nbformat": 4,
 "nbformat_minor": 2,
 "cells": [
  {
   "cell_type": "code",
   "execution_count": 1,
   "metadata": {},
   "outputs": [],
   "source": [
    "import pandas as pd"
   ]
  },
  {
   "cell_type": "code",
   "execution_count": 57,
   "metadata": {},
   "outputs": [
    {
     "output_type": "execute_result",
     "data": {
      "text/plain": [
       "                                         file      pesq      stoi\n",
       "0      m7_script5_ipad_confroom1_denoised.wav  2.307213  0.828735\n",
       "1  f7_script5_iphone_livingroom1_denoised.wav  1.893603  0.661960\n",
       "2      f2_script5_ipad_confroom2_denoised.wav  2.571508  0.936778\n",
       "3       m1_script5_ipad_bedroom1_denoised.wav  2.194737  0.760412\n",
       "4     f1_script5_iphone_bedroom1_denoised.wav  2.222832  0.789765"
      ],
      "text/html": "<div>\n<style scoped>\n    .dataframe tbody tr th:only-of-type {\n        vertical-align: middle;\n    }\n\n    .dataframe tbody tr th {\n        vertical-align: top;\n    }\n\n    .dataframe thead th {\n        text-align: right;\n    }\n</style>\n<table border=\"1\" class=\"dataframe\">\n  <thead>\n    <tr style=\"text-align: right;\">\n      <th></th>\n      <th>file</th>\n      <th>pesq</th>\n      <th>stoi</th>\n    </tr>\n  </thead>\n  <tbody>\n    <tr>\n      <th>0</th>\n      <td>m7_script5_ipad_confroom1_denoised.wav</td>\n      <td>2.307213</td>\n      <td>0.828735</td>\n    </tr>\n    <tr>\n      <th>1</th>\n      <td>f7_script5_iphone_livingroom1_denoised.wav</td>\n      <td>1.893603</td>\n      <td>0.661960</td>\n    </tr>\n    <tr>\n      <th>2</th>\n      <td>f2_script5_ipad_confroom2_denoised.wav</td>\n      <td>2.571508</td>\n      <td>0.936778</td>\n    </tr>\n    <tr>\n      <th>3</th>\n      <td>m1_script5_ipad_bedroom1_denoised.wav</td>\n      <td>2.194737</td>\n      <td>0.760412</td>\n    </tr>\n    <tr>\n      <th>4</th>\n      <td>f1_script5_iphone_bedroom1_denoised.wav</td>\n      <td>2.222832</td>\n      <td>0.789765</td>\n    </tr>\n  </tbody>\n</table>\n</div>"
     },
     "metadata": {},
     "execution_count": 57
    }
   ],
   "source": [
    "df = pd.read_csv(\"metrics/metrics_02_05_2021_20_00_22.csv\")\n",
    "df.head()"
   ]
  },
  {
   "cell_type": "code",
   "execution_count": null,
   "metadata": {},
   "outputs": [],
   "source": [
    "# Benchmarks on DAPS dataset (from HiFi-GAN paper)\n",
    "WPE+Wiener  1.84 0.87 \n",
    "Deep FL  1.63 0.85 \n",
    "Wave-U-Net  1.47 0.86 \n",
    "BLSTM  1.63 0.88 \n",
    "MetricGAN  1.89 0.88 \n",
    "Base 1.76 0.89 \n",
    "+Postnet 1.93 0.89 \n",
    "+Postnet +SpecGAN 1.97 0.87 \n",
    "+Postnet +WaveGAN 1.86 0.88 \n",
    "HiFi-GAN (All) 2.00 0.89 "
   ]
  },
  {
   "cell_type": "code",
   "execution_count": 6,
   "metadata": {},
   "outputs": [
    {
     "output_type": "execute_result",
     "data": {
      "text/plain": [
       "             pesq        stoi\n",
       "count  240.000000  240.000000\n",
       "mean     2.042631    0.727752\n",
       "std      0.443928    0.149062\n",
       "min      0.495427    0.305208\n",
       "25%      1.886044    0.691918\n",
       "50%      2.155381    0.762510\n",
       "75%      2.330443    0.834804\n",
       "max      2.914181    0.952881"
      ],
      "text/html": "<div>\n<style scoped>\n    .dataframe tbody tr th:only-of-type {\n        vertical-align: middle;\n    }\n\n    .dataframe tbody tr th {\n        vertical-align: top;\n    }\n\n    .dataframe thead th {\n        text-align: right;\n    }\n</style>\n<table border=\"1\" class=\"dataframe\">\n  <thead>\n    <tr style=\"text-align: right;\">\n      <th></th>\n      <th>pesq</th>\n      <th>stoi</th>\n    </tr>\n  </thead>\n  <tbody>\n    <tr>\n      <th>count</th>\n      <td>240.000000</td>\n      <td>240.000000</td>\n    </tr>\n    <tr>\n      <th>mean</th>\n      <td>2.042631</td>\n      <td>0.727752</td>\n    </tr>\n    <tr>\n      <th>std</th>\n      <td>0.443928</td>\n      <td>0.149062</td>\n    </tr>\n    <tr>\n      <th>min</th>\n      <td>0.495427</td>\n      <td>0.305208</td>\n    </tr>\n    <tr>\n      <th>25%</th>\n      <td>1.886044</td>\n      <td>0.691918</td>\n    </tr>\n    <tr>\n      <th>50%</th>\n      <td>2.155381</td>\n      <td>0.762510</td>\n    </tr>\n    <tr>\n      <th>75%</th>\n      <td>2.330443</td>\n      <td>0.834804</td>\n    </tr>\n    <tr>\n      <th>max</th>\n      <td>2.914181</td>\n      <td>0.952881</td>\n    </tr>\n  </tbody>\n</table>\n</div>"
     },
     "metadata": {},
     "execution_count": 6
    }
   ],
   "source": [
    "# overall stats\n",
    "df.describe()"
   ]
  },
  {
   "cell_type": "code",
   "execution_count": 46,
   "metadata": {},
   "outputs": [
    {
     "output_type": "stream",
     "name": "stdout",
     "text": [
      "pesq max: 2.914181470870972 at file    f5_script5_ipad_confroom2_denoised.wav\npesq                                   2.91418\nstoi                                  0.952881\nName: 221, dtype: object\n\npesq min: 0.4954272210597992 at file    m10_script5_iphone_balcony1_denoised.wav\npesq                                    0.495427\nstoi                                    0.360011\nName: 34, dtype: object\n\nstoi max: 0.9528814116082164 at file    f5_script5_ipad_confroom2_denoised.wav\npesq                                   2.91418\nstoi                                  0.952881\nName: 221, dtype: object\n\nstoi min: 0.3052076641067443 at file    m1_script5_iphone_balcony1_denoised.wav\npesq                                    1.09217\nstoi                                   0.305208\nName: 141, dtype: object\n\n"
     ]
    }
   ],
   "source": [
    "# Best and worst performing clips\n",
    "for column, values in df.items():\n",
    "    if column != 'file':\n",
    "        print(f\"{column} max: {df[column].max()} at {df.iloc[df[column].idxmax()]}\\n\")\n",
    "        print(f\"{column} min: {df[column].min()} at {df.iloc[df[column].idxmin()]}\\n\")"
   ]
  },
  {
   "cell_type": "code",
   "execution_count": 29,
   "metadata": {},
   "outputs": [
    {
     "output_type": "stream",
     "name": "stdout",
     "text": [
      "Stats for recordings in balcony:\n pesq    1.242862\nstoi    0.444086\ndtype: float64 \n\nStats for recordings in livingroom:\n pesq    2.063681\nstoi    0.746709\ndtype: float64 \n\nStats for recordings in confroom:\n pesq    2.315713\nstoi    0.811454\ndtype: float64 \n\nStats for recordings in bedroom:\n pesq    2.140806\nstoi    0.741056\ndtype: float64 \n\nStats for recordings in office:\n pesq    2.223246\nstoi    0.811655\ndtype: float64 \n\n"
     ]
    }
   ],
   "source": [
    "# stats for each environment\n",
    "envs = [\"balcony\", \"livingroom\", \"confroom\", \"bedroom\", \"office\"]\n",
    "\n",
    "for env in envs:\n",
    "    env_df = df[df['file'].str.contains(env)]\n",
    "    print(f\"Stats for recordings in {env}:\\n\", env_df.mean(), \"\\n\")\n",
    "    "
   ]
  },
  {
   "cell_type": "code",
   "execution_count": 53,
   "metadata": {},
   "outputs": [
    {
     "output_type": "stream",
     "name": "stdout",
     "text": [
      "Stats for recordings in iphone:\n pesq    1.793279\nstoi    0.600740\ndtype: float64 \n\nStats for recordings in ipad:\n pesq    2.125749\nstoi    0.770090\ndtype: float64 \n\n"
     ]
    }
   ],
   "source": [
    "# stats for each device\n",
    "devices = [\"iphone\", \"ipad\"]\n",
    "for device in devices:\n",
    "    device_df = df[df['file'].str.contains(device)]\n",
    "    print(f\"Stats for recordings in {device}:\\n\", device_df.mean(), \"\\n\")"
   ]
  },
  {
   "cell_type": "code",
   "execution_count": 52,
   "metadata": {},
   "outputs": [
    {
     "output_type": "stream",
     "name": "stdout",
     "text": [
      "Stats for recordings in f:\n pesq    2.094735\nstoi    0.744868\ndtype: float64 \n\nStats for recordings in m:\n pesq    1.990528\nstoi    0.710637\ndtype: float64 \n\n"
     ]
    }
   ],
   "source": [
    "# stats for each gender\n",
    "genders = [\"f\", \"m\"]\n",
    "for gender in genders:\n",
    "    gender_df = df[df['file'].str.startswith(gender)]\n",
    "    print(f\"Stats for recordings in {gender}:\\n\", gender_df.mean(), \"\\n\")"
   ]
  },
  {
   "cell_type": "code",
   "execution_count": 50,
   "metadata": {},
   "outputs": [
    {
     "output_type": "stream",
     "name": "stdout",
     "text": [
      "Stats for recordings in f1:\n pesq    2.080183\nstoi    0.752678\ndtype: float64 \n\nStats for recordings in f2:\n pesq    1.999850\nstoi    0.730288\ndtype: float64 \n\nStats for recordings in f3:\n pesq    2.078021\nstoi    0.773323\ndtype: float64 \n\nStats for recordings in f4:\n pesq    2.209525\nstoi    0.806937\ndtype: float64 \n\nStats for recordings in f5:\n pesq    2.258845\nstoi    0.779486\ndtype: float64 \n\nStats for recordings in f6:\n pesq    2.006867\nstoi    0.692202\ndtype: float64 \n\nStats for recordings in f7:\n pesq    2.050404\nstoi    0.682393\ndtype: float64 \n\nStats for recordings in f8:\n pesq    2.162742\nstoi    0.758986\ndtype: float64 \n\nStats for recordings in f9:\n pesq    2.020729\nstoi    0.719705\ndtype: float64 \n\nStats for recordings in f10:\n pesq    2.050225\nstoi    0.744016\ndtype: float64 \n\nStats for recordings in m1:\n pesq    1.862857\nstoi    0.698148\ndtype: float64 \n\nStats for recordings in m2:\n pesq    1.951604\nstoi    0.738928\ndtype: float64 \n\nStats for recordings in m3:\n pesq    1.879785\nstoi    0.680020\ndtype: float64 \n\nStats for recordings in m4:\n pesq    2.203826\nstoi    0.722007\ndtype: float64 \n\nStats for recordings in m5:\n pesq    2.197701\nstoi    0.731915\ndtype: float64 \n\nStats for recordings in m6:\n pesq    2.133835\nstoi    0.730661\ndtype: float64 \n\nStats for recordings in m7:\n pesq    2.033011\nstoi    0.759209\ndtype: float64 \n\nStats for recordings in m8:\n pesq    1.979370\nstoi    0.689461\ndtype: float64 \n\nStats for recordings in m9:\n pesq    1.800433\nstoi    0.657872\ndtype: float64 \n\nStats for recordings in m10:\n pesq    1.714202\nstoi    0.692280\ndtype: float64 \n\n"
     ]
    }
   ],
   "source": [
    "# stats for each speaker\n",
    "numbers = list(range(1,11))\n",
    "\n",
    "speakers = []\n",
    "for gender in genders:\n",
    "    for number in numbers:\n",
    "        speakers.append(gender + str(number))\n",
    "\n",
    "\n",
    "for speaker in speakers:\n",
    "    speaker_df = df[df['file'].str.startswith(speaker)]\n",
    "    print(f\"Stats for recordings in {speaker}:\\n\", speaker_df.mean(), \"\\n\")"
   ]
  },
  {
   "cell_type": "code",
   "execution_count": 60,
   "metadata": {},
   "outputs": [
    {
     "output_type": "stream",
     "name": "stdout",
     "text": [
      "                     file      pesq      stoi\n0      matt2_denoised.wav  1.820061  0.685822\n1  matt-test_denoised.wav  0.945728  0.390989 \n\npesq    1.382895\nstoi    0.538405\ndtype: float64\n"
     ]
    }
   ],
   "source": [
    "# Performance on Matt's test clips\n",
    "ml_df = pd.read_csv(\"metrics/metrics_02_06_2021_04_24_38.csv\")\n",
    "print(ml_df.head(), '\\n')\n",
    "print(ml_df.mean())"
   ]
  },
  {
   "cell_type": "code",
   "execution_count": null,
   "metadata": {},
   "outputs": [],
   "source": []
  }
 ]
}